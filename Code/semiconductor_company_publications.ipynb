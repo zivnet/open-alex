    "                 if rel.get(\"type\", \"\").lower()==\"parent\"]\n",
